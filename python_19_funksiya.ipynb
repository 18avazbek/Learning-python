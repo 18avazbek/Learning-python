{
  "nbformat": 4,
  "nbformat_minor": 0,
  "metadata": {
    "colab": {
      "provenance": [],
      "authorship_tag": "ABX9TyOoGHVjZr+z0BNmd7Gkw3qH",
      "include_colab_link": true
    },
    "kernelspec": {
      "name": "python3",
      "display_name": "Python 3"
    },
    "language_info": {
      "name": "python"
    }
  },
  "cells": [
    {
      "cell_type": "markdown",
      "metadata": {
        "id": "view-in-github",
        "colab_type": "text"
      },
      "source": [
        "<a href=\"https://colab.research.google.com/github/18avazbek/Learning-python/blob/main/python_19_funksiya.ipynb\" target=\"_parent\"><img src=\"https://colab.research.google.com/assets/colab-badge.svg\" alt=\"Open In Colab\"/></a>"
      ]
    },
    {
      "cell_type": "code",
      "execution_count": null,
      "metadata": {
        "id": "-BsnNL6Va9KO"
      },
      "outputs": [],
      "source": [
        "#ishni boshladik\n",
        "def salom_ber():\n",
        "  \"\"\"Salom beruvchi funksiya\"\"\"\n",
        "  print(\"Assalomu alaykum!\")"
      ]
    },
    {
      "cell_type": "code",
      "source": [
        "def salom_ber(ism):\n",
        "  \"\"\" Foydalanuvchidan ismini so'rab,\n",
        "  o'sha ismga salom beruvchi funksiya \"\"\"\n",
        "  print(f\"Assalomu alaykum, hurmatli {ism.title()}!\")\n"
      ],
      "metadata": {
        "id": "NOq0vs5-gBgN"
      },
      "execution_count": null,
      "outputs": []
    },
    {
      "cell_type": "code",
      "source": [
        "print(salom_ber.__doc__)"
      ],
      "metadata": {
        "id": "S_4688uNJDTv"
      },
      "execution_count": null,
      "outputs": []
    },
    {
      "cell_type": "code",
      "source": [
        "def toliq_ism(ism, familiya):\n",
        "  \"\"\"Foydalanuvchining ism va familiyasini jamlab chiqaruvchi dastur.\"\"\"\n",
        "  print(f\"Foydalanuvchining ismi: {ism.title()}\\n\"\n",
        "        f\"Foydalanuvchining familiyasi: {familiya.title()}\")\n",
        "toliq_ism('olim','hakimov')"
      ],
      "metadata": {
        "colab": {
          "base_uri": "https://localhost:8080/"
        },
        "id": "nFw8WHhSJMmL",
        "outputId": "46fc6ce3-e637-44e0-bb4b-7572b26ff78d"
      },
      "execution_count": null,
      "outputs": [
        {
          "output_type": "stream",
          "name": "stdout",
          "text": [
            "Foydalanuvchining ismi: Olim\n",
            "Foydalanuvchining familiyasi: Hakimov\n"
          ]
        }
      ]
    },
    {
      "cell_type": "code",
      "source": [],
      "metadata": {
        "id": "jQBGTOGBKyvs"
      },
      "execution_count": null,
      "outputs": []
    }
  ]
}