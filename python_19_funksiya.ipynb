{
  "nbformat": 4,
  "nbformat_minor": 0,
  "metadata": {
    "colab": {
      "provenance": [],
      "authorship_tag": "ABX9TyO4owWpEPScqSDA4cT2rLSe",
      "include_colab_link": true
    },
    "kernelspec": {
      "name": "python3",
      "display_name": "Python 3"
    },
    "language_info": {
      "name": "python"
    }
  },
  "cells": [
    {
      "cell_type": "markdown",
      "metadata": {
        "id": "view-in-github",
        "colab_type": "text"
      },
      "source": [
        "<a href=\"https://colab.research.google.com/github/18avazbek/Learning-python/blob/main/python_19_funksiya.ipynb\" target=\"_parent\"><img src=\"https://colab.research.google.com/assets/colab-badge.svg\" alt=\"Open In Colab\"/></a>"
      ]
    },
    {
      "cell_type": "code",
      "execution_count": null,
      "metadata": {
        "id": "-BsnNL6Va9KO"
      },
      "outputs": [],
      "source": [
        "#ishni boshladik\n",
        "def salom_ber():\n",
        "  \"\"\"Salom beruvchi funksiya\"\"\"\n",
        "  print(\"Assalomu alaykum!\")"
      ]
    },
    {
      "cell_type": "code",
      "source": [
        "def salom_ber(ism):\n",
        "  \"\"\" Foydalanuvchidan ismini so'rab,\n",
        "  o'sha ismga salom beruvchi funksiya \"\"\"\n",
        "  print(f\"Assalomu alaykum, hurmatli {ism.title()}!\")\n"
      ],
      "metadata": {
        "id": "NOq0vs5-gBgN"
      },
      "execution_count": null,
      "outputs": []
    },
    {
      "cell_type": "code",
      "source": [
        "print(salom_ber.__doc__)"
      ],
      "metadata": {
        "id": "S_4688uNJDTv"
      },
      "execution_count": null,
      "outputs": []
    },
    {
      "cell_type": "code",
      "source": [
        "def toliq_ism(ism, familiya):\n",
        "  \"\"\"Foydalanuvchining ism va familiyasini jamlab chiqaruvchi dastur.\"\"\"\n",
        "  print(f\"Foydalanuvchining ismi: {ism.title()}\\n\"\n",
        "        f\"Foydalanuvchining familiyasi: {familiya.title()}\")\n",
        "toliq_ism('olim','hakimov')"
      ],
      "metadata": {
        "colab": {
          "base_uri": "https://localhost:8080/"
        },
        "id": "nFw8WHhSJMmL",
        "outputId": "46fc6ce3-e637-44e0-bb4b-7572b26ff78d"
      },
      "execution_count": null,
      "outputs": [
        {
          "output_type": "stream",
          "name": "stdout",
          "text": [
            "Foydalanuvchining ismi: Olim\n",
            "Foydalanuvchining familiyasi: Hakimov\n"
          ]
        }
      ]
    },
    {
      "cell_type": "code",
      "source": [
        "def yosh_xisobla(ism, tugilgan_yil):\n",
        "  \"\"\"Foydalanuvchi yoshini hisoblaydigan dastur.\"\"\"\n",
        "  print(f\"{ism.title()} {2023-tugilgan_yil} yoshda \")\n",
        "\n",
        "#yosh_xisobla('akbar',2001)\n",
        "yosh_xisobla(tugilgan_yil=2001, ism='akbar')"
      ],
      "metadata": {
        "id": "jQBGTOGBKyvs",
        "colab": {
          "base_uri": "https://localhost:8080/"
        },
        "outputId": "6b3ed5f8-a078-49bf-9504-83d4d6960734"
      },
      "execution_count": 5,
      "outputs": [
        {
          "output_type": "stream",
          "name": "stdout",
          "text": [
            "Akbar 22 yoshda \n"
          ]
        }
      ]
    },
    {
      "cell_type": "code",
      "source": [
        "def yosh_hisobla(tugilgan_yil, joriy_yil=2023):\n",
        "  \"\"\"Foyalanuvchinig yoshini hisoblab beruvchi dastur\"\"\"\n",
        "  print(f\"Siz {joriy_yil-tugilgan_yil} yoshdasiz \")\n",
        "#yosh_hisobla(1999,2023)\n",
        "yosh_hisobla(1999)\n"
      ],
      "metadata": {
        "colab": {
          "base_uri": "https://localhost:8080/"
        },
        "id": "3ILjMNavOWMZ",
        "outputId": "378ccd81-6c7a-45a3-e0b0-b7414cee2e53"
      },
      "execution_count": 11,
      "outputs": [
        {
          "output_type": "stream",
          "name": "stdout",
          "text": [
            "Siz 24 yoshdasiz \n"
          ]
        }
      ]
    },
    {
      "cell_type": "markdown",
      "source": [
        "Amaliyotni boshlaymiz\n"
      ],
      "metadata": {
        "id": "qWJ2xin1Q3vS"
      }
    },
    {
      "cell_type": "code",
      "source": [
        "def ism_tug_hisobla(ism, tugilgan_yil):\n",
        "  \"\"\"Foydalanuvchining ismini so'rab tug'ilgan yilini xisoblab beruvchi dastur \"\"\"\n",
        "  print(f\" {ism.title()} siz {2023-tugilgan_yil} yoshdasiz\")\n",
        "\n",
        "ism_tug_hisobla('avazbek',1999)\n"
      ],
      "metadata": {
        "colab": {
          "base_uri": "https://localhost:8080/"
        },
        "id": "Ro83e4qQQ8RR",
        "outputId": "ea347314-557f-4400-905b-b8933ccd0e6a"
      },
      "execution_count": 14,
      "outputs": [
        {
          "output_type": "stream",
          "name": "stdout",
          "text": [
            " Avazbek siz 24 yoshdasiz\n"
          ]
        }
      ]
    },
    {
      "cell_type": "code",
      "source": [
        "# Foydalanuvchidan son olib, uning kvadrati va kubini konsolga chiqaruvchi funksiya yozing.\n",
        "def kv_kub(son):\n",
        "    \"\"\"Kiritilgan sonning kvadrati va kubini konsolga chiqaruvchi funksiya\"\"\"\n",
        "    print(f\"{son} ning kvadrati {son**2} ga, kubi {son**3} ga teng\")\n",
        "\n",
        "kv_kub(-4)"
      ],
      "metadata": {
        "colab": {
          "base_uri": "https://localhost:8080/"
        },
        "id": "tFVPTykoSoE_",
        "outputId": "1db26471-d8c4-4bc7-d378-11c60714649a"
      },
      "execution_count": 15,
      "outputs": [
        {
          "output_type": "stream",
          "name": "stdout",
          "text": [
            "-4 ning kvadrati 16 ga, kubi -64 ga teng\n"
          ]
        }
      ]
    },
    {
      "cell_type": "code",
      "source": [
        "# Foydalanuvchidan son olib, son juft yoki toqligini konsolga chiqaruvchi funksiya yozing.\n",
        "def juftmi(son):\n",
        "    \"\"\"Kiritilgan son juft yoki toqligini konsolga chiqaruvchi funksiya\"\"\"\n",
        "    if son%2:\n",
        "        print(f\"{son} toq son\")\n",
        "    else:\n",
        "        print(f\"{son} juft son\")\n",
        "\n",
        "juftmi(20)\n",
        "juftmi(123)"
      ],
      "metadata": {
        "colab": {
          "base_uri": "https://localhost:8080/"
        },
        "id": "wL4RZpY3S5jw",
        "outputId": "814b7c68-918d-43ce-8969-5b7088c8ff87"
      },
      "execution_count": 16,
      "outputs": [
        {
          "output_type": "stream",
          "name": "stdout",
          "text": [
            "20 juft son\n",
            "123 toq son\n"
          ]
        }
      ]
    }
  ]
}