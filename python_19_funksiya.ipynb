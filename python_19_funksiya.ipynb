{
  "nbformat": 4,
  "nbformat_minor": 0,
  "metadata": {
    "colab": {
      "provenance": [],
      "authorship_tag": "ABX9TyPWwTiL4JjjK0doZx3n842K",
      "include_colab_link": true
    },
    "kernelspec": {
      "name": "python3",
      "display_name": "Python 3"
    },
    "language_info": {
      "name": "python"
    }
  },
  "cells": [
    {
      "cell_type": "markdown",
      "metadata": {
        "id": "view-in-github",
        "colab_type": "text"
      },
      "source": [
        "<a href=\"https://colab.research.google.com/github/18avazbek/Learning-python/blob/main/python_19_funksiya.ipynb\" target=\"_parent\"><img src=\"https://colab.research.google.com/assets/colab-badge.svg\" alt=\"Open In Colab\"/></a>"
      ]
    },
    {
      "cell_type": "code",
      "execution_count": null,
      "metadata": {
        "id": "-BsnNL6Va9KO"
      },
      "outputs": [],
      "source": [
        "#ishni boshladik\n",
        "def salom_ber():\n",
        "  \"\"\"Salom beruvchi funksiya\"\"\"\n",
        "  print(\"Assalomu alaykum!\")"
      ]
    },
    {
      "cell_type": "code",
      "source": [
        "def salom_ber(ism):\n",
        "  \"\"\" Foydalanuvchidan ismini so'rab,\n",
        "  o'sha ismga salom beruvchi funksiya \"\"\"\n",
        "  print(f\"Assalomu alaykum, hurmatli {ism.title()}!\")\n",
        "\n",
        "salom_ber(\"olim\")"
      ],
      "metadata": {
        "id": "NOq0vs5-gBgN"
      },
      "execution_count": null,
      "outputs": []
    },
    {
      "cell_type": "code",
      "source": [],
      "metadata": {
        "id": "w9MNDhrTiHKb"
      },
      "execution_count": null,
      "outputs": []
    }
  ]
}